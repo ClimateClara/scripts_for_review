{
 "cells": [
  {
   "cell_type": "code",
   "execution_count": null,
   "id": "0",
   "metadata": {},
   "outputs": [],
   "source": [
    "\"\"\"\n",
    "Created on Fri Aug 09 11:56 2024\n",
    "\n",
    "This script is to make 2D maps of hydrofracturing limits\n",
    "\n",
    "@author: Clara Burgard\n",
    "\"\"\""
   ]
  },
  {
   "cell_type": "code",
   "execution_count": null,
   "id": "1",
   "metadata": {},
   "outputs": [],
   "source": [
    "import xarray as xr\n",
    "import numpy as np\n",
    "from tqdm.notebook import tqdm\n",
    "import matplotlib.pyplot as plt\n",
    "import seaborn as sns\n",
    "from matplotlib import cm\n",
    "import matplotlib as mpl\n",
    "from matplotlib.colors import ListedColormap, LinearSegmentedColormap"
   ]
  },
  {
   "cell_type": "code",
   "execution_count": null,
   "id": "2",
   "metadata": {},
   "outputs": [],
   "source": [
    "sns.set_context('paper')"
   ]
  },
  {
   "cell_type": "code",
   "execution_count": null,
   "id": "3",
   "metadata": {},
   "outputs": [],
   "source": [
    "%matplotlib qt5"
   ]
  },
  {
   "cell_type": "code",
   "execution_count": null,
   "id": "4",
   "metadata": {},
   "outputs": [],
   "source": [
    "# make the domain a little smaller to make the computation even more efficient - file isf has already been made smaller at its creation\n",
    "map_lim = [-3000000,3000000]"
   ]
  },
  {
   "cell_type": "markdown",
   "id": "5",
   "metadata": {},
   "source": [
    "READ DATA"
   ]
  },
  {
   "cell_type": "code",
   "execution_count": null,
   "id": "6",
   "metadata": {},
   "outputs": [],
   "source": [
    "home_path = '/bettik/burgardc/'\n",
    "plot_path = '/bettik/burgardc/PLOTS/summer_paper_plots/'\n",
    "outputpath_GL = '/bettik/burgardc/DATA/SUMMER_PAPER/processed/GL_FLUX/'\n",
    "inputpath_weights = '/bettik/burgardc/DATA/SUMMER_PAPER/processed/ANALYSIS/'\n",
    "inputpath_atmo = '/bettik/burgardc/DATA/SUMMER_PAPER/raw/TS_SMB_DATA/out/'\n",
    "inputpath_data='/bettik/burgardc/DATA/SUMMER_PAPER/interim/'\n"
   ]
  },
  {
   "cell_type": "code",
   "execution_count": null,
   "id": "7",
   "metadata": {},
   "outputs": [],
   "source": [
    "GL_flux = xr.open_dataset(outputpath_GL + 'all_GL_fluxes_varying_m.nc')"
   ]
  },
  {
   "cell_type": "code",
   "execution_count": null,
   "id": "8",
   "metadata": {},
   "outputs": [],
   "source": [
    "GL_flux_ag = xr.Dataset()\n",
    "GL_flux_ag['flux_Gt_ref'] = xr.concat([GL_flux['flux_Gt_ref_m1'].assign_coords({'m': 1}),\n",
    "                                       GL_flux['flux_Gt_ref_m3'].assign_coords({'m': 3}),\n",
    "                                       GL_flux['flux_Gt_ref_m5'].assign_coords({'m': 5})], dim='m')\n",
    "GL_flux_ag['flux_Gt_ABUMIP'] = xr.concat([GL_flux['flux_Gt_ABUMIP_m1'].assign_coords({'m': 1}),\n",
    "                                       GL_flux['flux_Gt_ABUMIP_m3'].assign_coords({'m': 3}),\n",
    "                                       GL_flux['flux_Gt_ABUMIP_m5'].assign_coords({'m': 5})], dim='m')\n",
    "\n",
    "GL_flux_ABUMIP = GL_flux_ag['flux_Gt_ABUMIP']"
   ]
  },
  {
   "cell_type": "code",
   "execution_count": null,
   "id": "9",
   "metadata": {},
   "outputs": [],
   "source": [
    "inputpath_mask = home_path+'/DATA/SUMMER_PAPER/interim/ANTARCTICA_IS_MASKS/BedMachine_4km/'\n",
    "file_isf_orig = xr.open_dataset(inputpath_mask+'BedMachinev2_4km_isf_masks_and_info_and_distance_oneFRIS.nc')\n",
    "nonnan_Nisf = file_isf_orig['Nisf'].where(np.isfinite(file_isf_orig['front_bot_depth_max']), drop=True).astype(int)\n",
    "file_isf_nonnan = file_isf_orig.sel(Nisf=nonnan_Nisf)\n",
    "rignot_isf = file_isf_nonnan.Nisf.where(np.isfinite(file_isf_nonnan['isf_area_rignot']), drop=True)\n",
    "file_isf = file_isf_nonnan.sel(Nisf=rignot_isf)"
   ]
  },
  {
   "cell_type": "code",
   "execution_count": null,
   "id": "10",
   "metadata": {},
   "outputs": [],
   "source": [
    "isf_mask = file_isf['ISF_mask']"
   ]
  },
  {
   "cell_type": "code",
   "execution_count": null,
   "id": "11",
   "metadata": {},
   "outputs": [],
   "source": [
    "file_isf_mask = file_isf['ISF_mask'].where(file_isf['ISF_mask']==file_isf.Nisf).sum('Nisf')"
   ]
  },
  {
   "cell_type": "code",
   "execution_count": null,
   "id": "12",
   "metadata": {},
   "outputs": [],
   "source": [
    "weight_file = xr.open_dataset(inputpath_weights + 'bayesian_weights_davison_varying_combined_withoutGISS.nc')\n",
    "weight_2300_file = xr.open_dataset(inputpath_weights + 'bayesian_weights_davison_varying_combined_2300_withoutGISS.nc')\n",
    "file_viability_info = xr.open_dataset(inputpath_weights + 'all_fluxes_br_withoutGISS.nc')"
   ]
  },
  {
   "cell_type": "code",
   "execution_count": null,
   "id": "13",
   "metadata": {},
   "outputs": [],
   "source": [
    "mask_basins = xr.open_dataset(inputpath_data + 'Mask_Iceshelf_4km_IMBIE_withNisf.nc')"
   ]
  },
  {
   "cell_type": "code",
   "execution_count": null,
   "id": "14",
   "metadata": {},
   "outputs": [],
   "source": [
    "hf_limit = xr.open_dataset(inputpath_data + 'hydrofracturing_limits_new.nc')['hydrofrac_limit']"
   ]
  },
  {
   "cell_type": "markdown",
   "id": "15",
   "metadata": {},
   "source": [
    "PREPARE DATA"
   ]
  },
  {
   "cell_type": "code",
   "execution_count": null,
   "id": "16",
   "metadata": {},
   "outputs": [],
   "source": [
    "sens_weights = xr.DataArray(data=np.array([0.11,\n",
    "                                           0.24,\n",
    "                                           0.03,\n",
    "                                           0.10,\n",
    "                                           0.10,\n",
    "                                           0.10,\n",
    "                                           0.10,\n",
    "                                           0.24,\n",
    "                                           0.47,\n",
    "                                           0.41,\n",
    "                                           0.12,\n",
    "                                           0.43,\n",
    "                                           0.39,\n",
    "                                           0.05]), dims=['model']).assign_coords({'model': \n",
    "                                                                                  ['ACCESS-CM2','ACCESS-ESM1-5','CanESM5',\n",
    "                                                                                   'CESM2','CESM2-WACCM','CNRM-CM6-1','CNRM-ESM2-1',\n",
    "                                                                                   'GFDL-CM4','GFDL-ESM4','GISS-E2-1-H', 'IPSL-CM6A-LR',\n",
    "                                                                                   'MPI-ESM1-2-HR','MRI-ESM2-0','UKESM1-0-LL']})\n",
    "\n",
    "sens_weights = sens_weights.drop_sel(model='GISS-E2-1-H')"
   ]
  },
  {
   "cell_type": "code",
   "execution_count": null,
   "id": "17",
   "metadata": {},
   "outputs": [],
   "source": [
    "model_2300 = ['ACCESS-CM2','ACCESS-ESM1-5','CanESM5','CESM2-WACCM', 'IPSL-CM6A-LR','MRI-ESM2-0','UKESM1-0-LL'] #'GISS-E2-1-H',"
   ]
  },
  {
   "cell_type": "code",
   "execution_count": null,
   "id": "18",
   "metadata": {},
   "outputs": [],
   "source": [
    "bay_weights = weight_file['bay_weights']\n",
    "bay_weights_2300 = weight_2300_file['bay_weights']"
   ]
  },
  {
   "cell_type": "code",
   "execution_count": null,
   "id": "19",
   "metadata": {},
   "outputs": [],
   "source": [
    "mass_balance_weighted_yy = file_viability_info['MASS_BALANCE'].weighted(bay_weights * sens_weights)\n",
    "mass_balance_weighted_yy_2300 = file_viability_info['MASS_BALANCE'].sel(model=model_2300).weighted(bay_weights_2300 * sens_weights.sel(model=model_2300))"
   ]
  },
  {
   "cell_type": "code",
   "execution_count": null,
   "id": "20",
   "metadata": {},
   "outputs": [],
   "source": [
    "weighted_quantiles = mass_balance_weighted_yy.quantile([0,0.1,0.33,0.66,0.5,0.9,1],dim=['model','param','m'])\n",
    "weighted_quantiles_2300 = mass_balance_weighted_yy_2300.quantile([0,0.1,0.33,0.66,0.5,0.9,1],dim=['model','param','m'])"
   ]
  },
  {
   "cell_type": "code",
   "execution_count": null,
   "id": "21",
   "metadata": {},
   "outputs": [],
   "source": [
    "unviable_times = weighted_quantiles > 0\n",
    "unviable_times_2300 = weighted_quantiles_2300 > 0"
   ]
  },
  {
   "cell_type": "code",
   "execution_count": null,
   "id": "22",
   "metadata": {},
   "outputs": [],
   "source": [
    "viability_diff = unviable_times.sel(time=range(2100,1849,-1)).cumsum('time').diff('time')\n",
    "limit_max = viability_diff.time.where(viability_diff == 0).max('time') + 1\n",
    "limit_max = limit_max.where(limit_max<2099)\n",
    "limit_max = limit_max.where(~(np.isnan(limit_max) & unviable_times.sel(time=1850)), 1850)\n",
    "\n",
    "limit_max_full = limit_max.where(np.isfinite(limit_max), 2301)\n",
    "\n",
    "unviable_isf = (unviable_times.time >= limit_max_full)\n",
    "count_unviable_isf = (unviable_times.time >= limit_max_full).sum('Nisf')"
   ]
  },
  {
   "cell_type": "code",
   "execution_count": null,
   "id": "23",
   "metadata": {},
   "outputs": [],
   "source": [
    "viability_diff_2300 = unviable_times_2300.sel(time=range(2298,1849,-1)).cumsum('time').diff('time')\n",
    "limit_max_2300 = viability_diff_2300.time.where(viability_diff_2300 == 0).max('time') + 1\n",
    "limit_max_2300 = limit_max_2300.where(limit_max_2300<2299)\n",
    "limit_max_2300 = limit_max_2300.where(~(np.isnan(limit_max_2300) & unviable_times_2300.sel(time=1850)), 1850)\n",
    "\n",
    "limit_max_full_2300 = limit_max_2300.where(np.isfinite(limit_max_2300), 2305)\n",
    "\n",
    "unviable_isf_2300 = (unviable_times_2300.time >= limit_max_full_2300)\n",
    "count_unviable_isf_2300 = (unviable_times_2300.time >= limit_max_full_2300).sum('Nisf')\n"
   ]
  },
  {
   "cell_type": "code",
   "execution_count": null,
   "id": "24",
   "metadata": {},
   "outputs": [],
   "source": [
    "likelihood_list = ['vunlikely','unlikely','about','likely','vlikely']"
   ]
  },
  {
   "cell_type": "code",
   "execution_count": null,
   "id": "25",
   "metadata": {},
   "outputs": [],
   "source": [
    "quant_distrib = unviable_isf.sel(quantile=[0,0.1,0.33,0.66,0.9,1]).sum('quantile')\n",
    "quant_distrib_2300 = unviable_isf_2300.sel(quantile=[0,0.1,0.33,0.66,0.9,1]).sum('quantile')"
   ]
  },
  {
   "cell_type": "code",
   "execution_count": null,
   "id": "26",
   "metadata": {},
   "outputs": [],
   "source": [
    "hf_doomed_2300 = (unviable_times_2300.time >= hf_limit)\n",
    "quant_distrib_hydrofrac = hf_doomed_2300.sel(pctl=[1,10,33,66,90,99]).sum('pctl')"
   ]
  },
  {
   "cell_type": "code",
   "execution_count": null,
   "id": "27",
   "metadata": {},
   "outputs": [],
   "source": [
    "count_hflimit_isf_2300 = (unviable_times_2300.time >= hf_limit).sum('Nisf')"
   ]
  },
  {
   "cell_type": "code",
   "execution_count": null,
   "id": "28",
   "metadata": {},
   "outputs": [],
   "source": [
    "nonviable_before_hydrofrac = limit_max_full_2300.sel(quantile=0.33) <=  hf_limit.sel(pctl=33)"
   ]
  },
  {
   "cell_type": "code",
   "execution_count": null,
   "id": "29",
   "metadata": {},
   "outputs": [],
   "source": [
    "nonviable_before_hydrofrac_clean = nonviable_before_hydrofrac.where((hf_limit.sel(pctl=33) < 2300) | (limit_max_full_2300.sel(quantile=0.33) <= 2297))"
   ]
  },
  {
   "cell_type": "markdown",
   "id": "30",
   "metadata": {},
   "source": [
    "PREPARE PLOT"
   ]
  },
  {
   "cell_type": "code",
   "execution_count": null,
   "id": "31",
   "metadata": {},
   "outputs": [],
   "source": [
    "grounded_msk03 = file_isf['ground_mask'].where(file_isf['ground_mask']==0,3)\n",
    "grounded_msk = (grounded_msk03.where(grounded_msk03!=3,1)-1)*-1"
   ]
  },
  {
   "cell_type": "code",
   "execution_count": null,
   "id": "32",
   "metadata": {},
   "outputs": [],
   "source": [
    "grounded_basin = mask_basins['Iceshelf'].where(grounded_msk == 0)"
   ]
  },
  {
   "cell_type": "code",
   "execution_count": null,
   "id": "33",
   "metadata": {},
   "outputs": [],
   "source": [
    "icesheet_msk_0inf = file_isf_mask.where(file_isf_mask!=1,0)\n",
    "icesheet_msk = icesheet_msk_0inf.where(icesheet_msk_0inf < 1, 1)"
   ]
  },
  {
   "cell_type": "code",
   "execution_count": null,
   "id": "34",
   "metadata": {},
   "outputs": [],
   "source": [
    "### Colorbar:\n",
    "cmap = mpl.cm.PuBu #Blues # define the colormap\n",
    "# extract all colors from the .jet map\n",
    "cmaplist = [cmap(i) for i in range(cmap.N)]\n",
    "# force the first color entry to be grey\n",
    "# cmaplist[0] = (.5, .5, .5, 1.0)\n",
    "\n",
    "# create the new map\n",
    "cmap_new = mpl.colors.LinearSegmentedColormap.from_list(\n",
    "    'Custom cmap', cmaplist, cmap.N)\n",
    "\n",
    "alpha = 0.8\n",
    "cmap_with_alpha = cmap(np.arange(cmap_new.N))\n",
    "cmap_with_alpha[:, -1] = alpha\n",
    "cmap_new3 = mpl.colors.ListedColormap(cmap_with_alpha)\n",
    "\n",
    "# define the bins and normalize\n",
    "bounds = np.arange(6)\n",
    "norm = mpl.colors.BoundaryNorm(bounds, cmap_new3.N)\n",
    "\n",
    "\n"
   ]
  },
  {
   "cell_type": "code",
   "execution_count": null,
   "id": "35",
   "metadata": {},
   "outputs": [],
   "source": [
    "scen = 'ssp126'\n",
    "yy = 2000\n",
    "via_to_plot = quant_distrib_hydrofrac.sel(time=yy,scenario=scen) \n",
    "#via_to_plot = quant_distrib.sel(time=yy,scenario=scen)\n",
    "\n",
    "map_to_plot = file_isf['ISF_mask'] * np.nan\n",
    "map_to_plot2 = file_isf['ISF_mask'] * np.nan\n",
    "grounded_basin_kisf = file_isf['ISF_mask'] * np.nan\n",
    "\n",
    "for kisf in tqdm(file_isf['Nisf']): #\n",
    "    map_to_plot = map_to_plot.where(file_isf['ISF_mask'] != kisf, via_to_plot.sel(Nisf=kisf))\n",
    "    other_Nisf = mask_basins['ID_IMBIE'].sel(Nisf=kisf)\n",
    "    #print(kisf.values,file_isf['isf_name'].sel(Nisf=kisf).values, other_Nisf.values)\n",
    "    grounded_basin_kisf = grounded_basin_kisf.where(grounded_basin != other_Nisf, kisf)\n",
    "    map_to_plot2 = map_to_plot2.where(grounded_basin != other_Nisf, via_to_plot.sel(Nisf=kisf))\n",
    "map_to_plot_all = map_to_plot.combine_first(map_to_plot2)\n",
    "grounded_basin_kisf = grounded_basin_kisf.where(np.isfinite(grounded_basin_kisf), 76)\n",
    "\n",
    "fig = plt.figure(figsize=(8.25,8.25))\n",
    "\n",
    "# MAR masks:\n",
    "grd=file_isf['ISF_mask']\n",
    "msk_ice = grd.where( (grd>0.) )* 0 + 1\n",
    "\n",
    "# Basin masks:\n",
    "basin=xr.open_dataset('/bettik/burgardc/DATA/SUMMER_PAPER/interim/Mask_Iceshelf_4km_IMBIE_withNisf.nc')\n",
    "\n",
    "##########################################################################\n",
    "# PLOT :\n",
    "\n",
    "#----------\n",
    "# Colorbar:\n",
    "#cbar_range = np.arange(0.,4200.,200.)\n",
    "#newcolors = col(np.linspace(0.47, 1.00,256))\n",
    "\n",
    "#----------\n",
    "# Defining colormap:\n",
    "\n",
    "# moving the zero of colorbar\n",
    "# NB: modify the Ncool to Nwarm ratio (total=256) to place zero as desired.\n",
    "#Ncool=int(256*(-np.amin(cbar_range)/(np.amax(cbar_range)-np.amin(cbar_range))))\n",
    "#Nwarm=256-Ncool\n",
    "#col = cm.get_cmap('PuOr', 256)\n",
    "#tmp1 = col(np.linspace(0.47, 1.00, Ncool)) # decrease first number to have more white in the middle light-blue colors\n",
    "#tmp2 = col(np.linspace(0.00, 0.51, Nwarm)) # increase second number to have more white in the middle light-yellow colors\n",
    "#newcolors = np.append(tmp1[::-1,:],tmp2[::-1,:],axis=0)\n",
    "#newcolors = col(np.linspace(0.47, 1.00,256))\n",
    "#cmap_new = ListedColormap(newcolors)\n",
    "\n",
    "levels = range(10,77)\n",
    "\n",
    "#cax=fig.add_axes([0.52, 0.02, 0.43, 0.015]) # color bar\n",
    "im0=plt.contourf(grd.x,grd.y,map_to_plot,extend='max',cmap=cmap_new3, norm=norm, levels=bounds)\n",
    "plt.contourf(grd.x,grd.y,map_to_plot2,extend='max',cmap=cmap_new3, norm=norm, levels=bounds) #, alpha=0.7\n",
    "#plt.contour(grd.x,grd.y,map_to_plot2,extend='max',colors='grey',zorder=15)\n",
    "plt.contour(grd.x,grd.y,file_isf['ISF_mask'],levels,linewidths=0.7,colors='darkgrey',linestyles='solid',zorder=10) #.where(np.isnan(grounded_msk))\n",
    "plt.contour(grd.x,grd.y,grounded_basin_kisf,levels,linewidths=0.7,colors='darkgrey',linestyles='solid',zorder=10)\n",
    "plt.contour(grd.x,grd.y,grounded_msk,linewidths=0.7,colors='darkgrey',zorder=12)\n",
    "plt.contour(grd.x,grd.y,icesheet_msk,linewidths=0.9,colors='black',zorder=15)\n",
    "\n",
    "plt.title('Hydrofracturing probability '+str(yy)+' '+scen)\n",
    "\n",
    "ax2 = fig.add_axes([0.90, 0.1, 0.03, 0.8])\n",
    "cb = mpl.colorbar.ColorbarBase(ax2, cmap=cmap_new3, norm=norm,\n",
    "    spacing='proportional', ticks=np.arange(0.5,5), boundaries=bounds) #, format='%1i'\n",
    "cb.set_ticklabels(likelihood_list, rotation=90)\n",
    "\n",
    "#plt.tight_layout()\n",
    "fig.savefig(plot_path + 'map_2D_hydrofracturing_'+str(yy)+'_'+scen+'_mod2300_withoutGISS.png', dpi=300)"
   ]
  }
 ],
 "metadata": {
  "kernelspec": {
   "display_name": "py38",
   "language": "python",
   "name": "py38"
  },
  "language_info": {
   "codemirror_mode": {
    "name": "ipython",
    "version": 3
   },
   "file_extension": ".py",
   "mimetype": "text/x-python",
   "name": "python",
   "nbconvert_exporter": "python",
   "pygments_lexer": "ipython3",
   "version": "3.8.12"
  }
 },
 "nbformat": 4,
 "nbformat_minor": 5
}
